{
 "cells": [
  {
   "cell_type": "markdown",
   "id": "177b47a7-e7d0-403f-bc5a-0c6e79d80866",
   "metadata": {},
   "source": [
    "# Intro into Numpy"
   ]
  },
  {
   "cell_type": "code",
   "execution_count": null,
   "id": "6c17ce56-615b-4fb8-8480-507aba4e2e3c",
   "metadata": {},
   "outputs": [],
   "source": []
  }
 ],
 "metadata": {
  "kernelspec": {
   "display_name": "firstkernel",
   "language": "python",
   "name": "firstkernel"
  },
  "language_info": {
   "codemirror_mode": {
    "name": "ipython",
    "version": 3
   },
   "file_extension": ".py",
   "mimetype": "text/x-python",
   "name": "python",
   "nbconvert_exporter": "python",
   "pygments_lexer": "ipython3",
   "version": "3.11.4"
  }
 },
 "nbformat": 4,
 "nbformat_minor": 5
}
